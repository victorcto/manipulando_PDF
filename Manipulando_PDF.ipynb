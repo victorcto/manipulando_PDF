{
  "nbformat": 4,
  "nbformat_minor": 0,
  "metadata": {
    "colab": {
      "name": "Tratando PDF.ipynb",
      "provenance": [],
      "collapsed_sections": [
        "APqlO-198O3c",
        "IPaL2nfDS9C5"
      ],
      "mount_file_id": "1PuaXMaC2O-7aakaUh1aEgW8zjmOIrQzr",
      "authorship_tag": "ABX9TyNgHtbjANc+BxKAdy9u57jz",
      "include_colab_link": true
    },
    "kernelspec": {
      "name": "python3",
      "display_name": "Python 3"
    }
  },
  "cells": [
    {
      "cell_type": "markdown",
      "metadata": {
        "id": "view-in-github",
        "colab_type": "text"
      },
      "source": [
        "<a href=\"https://colab.research.google.com/github/victorcto/manipulando_PDF/blob/main/Manipulando_PDF.ipynb\" target=\"_parent\"><img src=\"https://colab.research.google.com/assets/colab-badge.svg\" alt=\"Open In Colab\"/></a>"
      ]
    },
    {
      "cell_type": "markdown",
      "metadata": {
        "id": "yHSFRYC1WW-j"
      },
      "source": [
        "<h1> Manipulando PDF </h1>\r\n",
        "<h2 ><b> Como extrair, limpar e formatar dados de um PDF com Python </b></h2>  \r\n",
        "<hr>\r\n"
      ]
    },
    {
      "cell_type": "markdown",
      "metadata": {
        "id": "APqlO-198O3c"
      },
      "source": [
        "#<h3><font size=5><b>Introdução</b></h3>\r\n",
        "\r\n",
        "<center><img src=\"https://img.icons8.com/ios-filled/200/000000/binary-file.png\"/></center>\r\n",
        "\r\n",
        "Diferentemente de documentos de textos simples, PDF's são arquivos binários, o que os torna mais difíceis de manipular. Além disso, PDF’s podem conter imagens, diferentes fontes, cores, etc. complicando ainda mais a tarefa de manipulação – extrair, limpar e reestruturar dados. Felizmente, conhecendo um pouco de Python e alguns de seus módulos é possível facilitar e automatizar essa tarefa em um PDF."
      ]
    },
    {
      "cell_type": "markdown",
      "metadata": {
        "id": "4XJuJYA4Lh-k"
      },
      "source": [
        "##<h4><b><img src=\"https://img.icons8.com/offices/24/000000/bookmark-ribbon.png\"/> Conhecendo o projeto</b></h4>\r\n",
        "\r\n",
        "É comum em nosso dia a dia nos depararmos com situações na qual PDF's possuem conteúdos confusos ou nada intuitivo de serem lidos. Como exemplo desse tipo de PDF: um edital emitido pela universidade de Brasília (UNB) que expõe o resultado final nos itens do tipo D e o resultado final na prova de redação em Língua Portuguesa, referentes à primeira etapa do Programa de Avaliação Seriada (PAS) Subprograma 2018 – Triênio 2018/2020. \r\n",
        "\r\n",
        "A imagem abaixo mostra um recorte do edital, no qual possuí 331 páginas de puro dados macivos.\r\n",
        "\r\n",
        "<center><img src=\"https://i.ibb.co/1JwpCt8/recorte.png\" width=\"50%\" alt=\"recorte\"></center>\r\n",
        "\r\n",
        "<img src=\"https://img.icons8.com/color/24/000000/external-link.png\"/> (você pode acessar o link do arquivo PDF completo clicando <a  href=\"http://bit.ly/PAS2018E1\">aqui</a>)\r\n",
        "<hr>\r\n",
        "\r\n",
        "Para ser mais didático, sem sair da realidade e semelhante ao exemplo supracitado, fiz um PDF que mostra as informações dos funcionários de uma empresa fictícia.\r\n",
        "\r\n",
        "<center><img src=\"https://i.ibb.co/6wkXQWp/recorte2.png\" alt=\"recorte 2\"></center>\r\n",
        "\r\n",
        "<img src=\"https://img.icons8.com/color/24/000000/external-link.png\"/> (você pode acessar o link do arquivo PDF completo clicando <a  href=\"https://drive.google.com/file/d/15h0u1ET5rsQCkpQ-qMLN9w3bUwgm-p8E/view?usp=sharing\">aqui</a>)"
      ]
    },
    {
      "cell_type": "markdown",
      "metadata": {
        "id": "zLUa0MTfEIW6"
      },
      "source": [
        "# <h3><font size=5><b>Projeto</b><font/></h3>\r\n",
        "<center><img src=\"https://img.icons8.com/ios-filled/200/000000/work.png\"/></center>\r\n",
        "\r\n",
        "Depois dessa \"breve\" introdução vamos de uma vez por a mão na massa.\r\n"
      ]
    },
    {
      "cell_type": "markdown",
      "metadata": {
        "id": "2qFCoePxJXnE"
      },
      "source": [
        "<h4><b><img src=\"https://img.icons8.com/offices/24/000000/bookmark-ribbon.png\"/> Instalando os pacotes necessários</b></h4>\r\n",
        "\r\n",
        "A instalação dos pacotes(módulos) abaixo são fundamentais para o processo de extração e nova inserção dos ddaos. \r\n",
        "\r\n",
        "*   pdfplumber = Extração dos dados\r\n",
        "*   FPDF = Inserção dos dados em um novo PDF"
      ]
    },
    {
      "cell_type": "code",
      "metadata": {
        "id": "XxIqXt83FgG_"
      },
      "source": [
        "!pip install pdfplumber\r\n",
        "!pip install FPDF"
      ],
      "execution_count": null,
      "outputs": []
    },
    {
      "cell_type": "markdown",
      "metadata": {
        "id": "ejP6geISJboi"
      },
      "source": [
        "<h4><b><img src=\"https://img.icons8.com/offices/24/000000/bookmark-ribbon.png\"/> Importação dos pacotes</b></h4>\r\n",
        "\r\n",
        "*   pdfplumber = Extração dos dados\r\n",
        "*   FPDF = Inserção dos dados em um novo PDF\r\n",
        "*   pandas = Criação de um DataFrame e dados estatísticos\r\n",
        "*   csv = Leitura de arquivo csv"
      ]
    },
    {
      "cell_type": "code",
      "metadata": {
        "id": "30YsOfzAHFTz"
      },
      "source": [
        "import pdfplumber\r\n",
        "from fpdf import FPDF\r\n",
        "import pandas as pd\r\n",
        "import csv"
      ],
      "execution_count": 68,
      "outputs": []
    },
    {
      "cell_type": "markdown",
      "metadata": {
        "id": "NKpnIBW1KT3i"
      },
      "source": [
        "<h4><b><img src=\"https://img.icons8.com/offices/24/000000/bookmark-ribbon.png\"/> Abrindo PDF</b></h4>\r\n",
        "\r\n",
        "Vamos utlizar o pacote pdfplumber para abrir, assim vamos conseguir acessa-lo para efetuar a manipulação."
      ]
    },
    {
      "cell_type": "code",
      "metadata": {
        "id": "uzAO43wzK1MT"
      },
      "source": [
        "# Abrindo PDF\r\n",
        "pdf = pdfplumber.open(\"/content/drive/MyDrive/Colab Notebooks/Projetos Data Science/Trabalhando com PDF/Relação de funcionários.pdf\")"
      ],
      "execution_count": 52,
      "outputs": []
    },
    {
      "cell_type": "markdown",
      "metadata": {
        "id": "xTpbpus7LueS"
      },
      "source": [
        "<h4><b><img src=\"https://img.icons8.com/offices/24/000000/bookmark-ribbon.png\"/> Extração do texto</b></h4>\r\n",
        "\r\n",
        "Precisamos coletar o texto do PDF. O PDF que estamos utilizando possuí apenas uma página, mesmo assim é necessário específicar o índice (0). Logo após acessamos a página que queremos, tilizamos a função extract_text() para extrair o texto e a função split(), passando como parâmetro o caractere \"|\", para quebrar o texto nesse caractere e retornar uma lista."
      ]
    },
    {
      "cell_type": "code",
      "metadata": {
        "id": "fRNDg2ukLvbp"
      },
      "source": [
        "# Extração do texto geral\r\n",
        "texto = pdf.pages[0].extract_text().split(\"|\")"
      ],
      "execution_count": 53,
      "outputs": []
    },
    {
      "cell_type": "markdown",
      "metadata": {
        "id": "0PS2BESCPCvK"
      },
      "source": [
        "<h4><b><img src=\"https://img.icons8.com/offices/24/000000/bookmark-ribbon.png\"/> Coleta e limpeza dos dados significativos</b></h4>\r\n",
        "\r\n",
        "<center><img src=\"https://i.ibb.co/C2q7r8V/recorte3.png\" alt=\"recorte 3\"></center>\r\n",
        "\r\n",
        "Está na hora de coletar e tratar os dados que nos interessa.\r\n",
        "Primeiramente, vamos guardar a data que se encontra na última posição da lista. Logo em seguida, selecionamos apenas as informações de todos os funcionários: para isso vamos utilizar slice na lista - as informações estão entre o index 3 e -2. \r\n",
        "\r\n",
        "Continuando, como podemos ver na imagem acima, o primeiro item da nossa lista, destacado de vermelho, contém alguns caracteres e o CPF misturados. Precisamos tratar esse elemento deixando apenas o CPF do primeiro funcionário. Para isso selecionamos a posição 0 e fazemos uso da função replace() para substituir todos os caracteres indesejados por espaços em branco, e logo após removeremos esses espaços com a função strip().\r\n",
        "\r\n",
        "Por fim, iremos percorrer todos os outros itens em busca de caracteres insignificantes e realizar a removação deles.\r\n",
        "\r\n",
        "<img src=\"https://img.icons8.com/offices/24/000000/box-important.png\"/> (Ao executar a célula abaixo, você verá como ficaram os nossos dados.)"
      ]
    },
    {
      "cell_type": "code",
      "metadata": {
        "id": "onCeHULDPQJx"
      },
      "source": [
        "data = texto[-1]\r\n",
        "funcionario = texto[3:-1]\r\n",
        "funcionario[0] = funcionario[0].replace(\" salário. \\n\",\" \").strip()\r\n",
        "for i, e in enumerate(funcionario):\r\n",
        "    if(e.find(\"\\n\")>=0 or e.find(\"R$\")>=0 or e.find(\".\") or e.find(\",\")):\r\n",
        "        funcionario[i] = funcionario[i].replace(\"\\n\",\"\").replace(\"R$\",\"\").replace(\",\",\".\").strip()\r\n",
        "\r\n",
        "funcionario"
      ],
      "execution_count": null,
      "outputs": []
    },
    {
      "cell_type": "markdown",
      "metadata": {
        "id": "s4CWyvDiRYuT"
      },
      "source": [
        "<h4><b><img src=\"https://img.icons8.com/offices/24/000000/bookmark-ribbon.png\"/> Lista de listas</b></h4>\r\n",
        "\r\n",
        "Eba! Já temos todos os nosso dados coletados e limpos, vamos partir para a etapa de reestruração desses dados e exportação.\r\n",
        "\r\n",
        "Começaremos criando uma lista de listas ou matriz, como quiser chamar. É necessário essa implementação para que possamos construir um DataFrame com as informações dos funcionários."
      ]
    },
    {
      "cell_type": "code",
      "metadata": {
        "id": "MsqU5WicRp__"
      },
      "source": [
        "k = 0\r\n",
        "j = 4\r\n",
        "funcionarios = []\r\n",
        "while True:\r\n",
        "  funcionarios.append(funcionario[k:j])\r\n",
        "  k = j\r\n",
        "  j+= 4\r\n",
        "  if(len(funcionarios)==(len(funcionario)/4)):\r\n",
        "    break"
      ],
      "execution_count": 69,
      "outputs": []
    },
    {
      "cell_type": "markdown",
      "metadata": {
        "id": "0C5nMP11Ry0e"
      },
      "source": [
        "<h4><b><img src=\"https://img.icons8.com/offices/24/000000/bookmark-ribbon.png\"/> Refinando dados</b></h4>\r\n",
        "\r\n",
        "Só mais um pouquinho de tratamento de dados...\r\n",
        "\r\n",
        "O nosso PDF possuí um dado a respeito dos salários dos funcionários, é interessante fazer a conversão desses valores de string para float a fim de podermos utilizar para por exemplo cálculos estatísticos."
      ]
    },
    {
      "cell_type": "code",
      "metadata": {
        "id": "mR66B507RzrC"
      },
      "source": [
        "for i in funcionarios:\r\n",
        "  i[3] = float(i[3])"
      ],
      "execution_count": 70,
      "outputs": []
    },
    {
      "cell_type": "markdown",
      "metadata": {
        "id": "ScYp9FMxSEsW"
      },
      "source": [
        "<h4><b><img src=\"https://img.icons8.com/offices/24/000000/bookmark-ribbon.png\"/> Criando DataFrame</b></h4>\r\n",
        "\r\n",
        "Chegou a hora de utilizarmos o módulo pandas para então criar nosso DataFrame. \r\n",
        "\r\n",
        "A segunda linha da célula abaixo faz com que nosso DateFrame comece com o valor 1.\r\n",
        "\r\n",
        "<img src=\"https://img.icons8.com/offices/24/000000/box-important.png\"/> (Ao executar a célula abaixo, você verá como ficaram os nossos dados.)"
      ]
    },
    {
      "cell_type": "code",
      "metadata": {
        "id": "r1573SPaSE5_"
      },
      "source": [
        "df = pd.DataFrame(funcionarios, columns=['CPF', 'Nome', 'Data de admissão', 'Salário'])\r\n",
        "df.index +=1\r\n",
        "df"
      ],
      "execution_count": null,
      "outputs": []
    },
    {
      "cell_type": "markdown",
      "metadata": {
        "id": "2oSg4wqoSSW_"
      },
      "source": [
        "<h4><b><img src=\"https://img.icons8.com/offices/24/000000/bookmark-ribbon.png\"/> Alguns dados estatísticos</b></h4>\r\n",
        "\r\n",
        "Aqui estão alguns exemplos de o que podemos fazer com os dados extraídos e devidamente tratados utilizando o pandas."
      ]
    },
    {
      "cell_type": "code",
      "metadata": {
        "id": "EBIrqHHUSSpY"
      },
      "source": [
        "media = df['Salário'].mean()\r\n",
        "soma = df['Salário'].sum()\r\n",
        "print(f\"Média salarial: R${media}\\nSoma salarial: R${soma}\")"
      ],
      "execution_count": null,
      "outputs": []
    },
    {
      "cell_type": "markdown",
      "metadata": {
        "id": "b2FS2xAsSRm4"
      },
      "source": [
        "<h4><b><img src=\"https://img.icons8.com/offices/24/000000/bookmark-ribbon.png\"/> Exportando para um arquivo CSV</b></h4>\r\n",
        "\r\n",
        "Ufa! Já estamos terminando. Vamos exportar nosso DataFrame para um arquivo do tipo CSV.\r\n",
        "\r\n",
        "O que queremos no fim é transformar nosso arquivo PDF com dados nada bem apresentavél em outro arquivo PDF mais amigável de serem lidos e interpretados.\r\n",
        "\r\n",
        "<img src=\"https://img.icons8.com/offices/24/000000/high-priority.png\"/> Não conheço (ou não existe) uma maneira direta de converter nosso DataFrame em PDF. Então para isso converteremos primeiro em CSV e posteriormente em PDF."
      ]
    },
    {
      "cell_type": "code",
      "metadata": {
        "id": "JbFoCf93SSFR"
      },
      "source": [
        "df.to_csv(\"/content/drive/MyDrive/Colab Notebooks/Projetos Data Science/Trabalhando com PDF/DataFrame.csv\", encoding=\"utf-8\", index=False)"
      ],
      "execution_count": 61,
      "outputs": []
    },
    {
      "cell_type": "markdown",
      "metadata": {
        "id": "T4NP6fHWSTlJ"
      },
      "source": [
        "<h4><b><img src=\"https://img.icons8.com/offices/24/000000/bookmark-ribbon.png\"/> Convertendo CSV em PDF</b></h4>\r\n",
        "\r\n",
        "Nosso projeto já está quase quase finalizado, só mais um passo.\r\n",
        "\r\n",
        "Esse é o último passo e o mais trabalhoso, porém é opcional. Se você não quiser transformar seu arquivo CSV em PDF pode pular para considerações finais. \r\n",
        "\r\n",
        "Para você que deseja fazer a conversão, fazeremos uso primeiramente do pacote csv. Esse pacote permite-nos abrir arquivos do tipo CSV. \r\n",
        "\r\n",
        "Em seguida, vamos utilizar o último módulo, FPDF. O pacote FPDF nos ajuda a criar e escrever arquivos PDF.\r\n",
        "\r\n",
        "Não irei me alongar nesse último passo pois se trata de um passo optativo, mas para aos interessados, irei disponibilizar o link abaixo da documentação oficial do módulo.\r\n",
        "\r\n",
        "<img src=\"https://img.icons8.com/color/24/000000/external-link.png\"/> <a href=\"http://www.fpdf.org/\">FPDF</a>"
      ]
    },
    {
      "cell_type": "code",
      "metadata": {
        "id": "JzaVCU99STwC"
      },
      "source": [
        "with open(\"/content/drive/MyDrive/Colab Notebooks/Projetos Data Science/Trabalhando com PDF/DataFrame.csv\", newline=\"\") as f:\r\n",
        "  reader = csv.reader(f)\r\n",
        "  new_pdf = FPDF()\r\n",
        "  new_pdf.add_font('AnticSlab', '', '/content/drive/MyDrive/Colab Notebooks/Projetos Data Science/Trabalhando com PDF/Fonts/AnticSlab-Regular.ttf', uni=True)\r\n",
        "  new_pdf.add_page()\r\n",
        "  page_width = new_pdf.w - 2 * new_pdf.l_margin\r\n",
        "      \r\n",
        "  new_pdf.set_font('Times','B',16.0) \r\n",
        "  new_pdf.cell(page_width, 0.0, 'Relação de funcionários', align='C')\r\n",
        "  new_pdf.ln(10)\r\n",
        "\r\n",
        "  new_pdf.set_font('', '', 12)\r\n",
        "    \r\n",
        "  col_width = page_width/4\r\n",
        "    \r\n",
        "  new_pdf.ln(1)\r\n",
        "    \r\n",
        "  th = new_pdf.font_size\r\n",
        "    \r\n",
        "  for row in reader:\r\n",
        "    new_pdf.cell(col_width, th, row[0], border=1)\r\n",
        "    new_pdf.cell(col_width, th, row[1], border=1)\r\n",
        "    new_pdf.cell(col_width, th, row[2], border=1)\r\n",
        "    new_pdf.cell(col_width, th, row[3], border=1)\r\n",
        "    new_pdf.ln(th)\r\n",
        "      \r\n",
        "  new_pdf.ln(10)\r\n",
        "  new_pdf.cell(0, 0, 'Número total de funcionários: {}'.format(len(funcionarios)))\r\n",
        "  new_pdf.ln(5)\r\n",
        "  new_pdf.cell(0, 0, 'A média salarial foi de R${}'.format(media))\r\n",
        "  new_pdf.ln(5)\r\n",
        "  new_pdf.cell(0, 0, 'A soma salarial foi de R${}'.format(soma))\r\n",
        "  new_pdf.ln(10)\r\n",
        "  new_pdf.cell(0, 0, data, align='C')\r\n",
        "    \r\n",
        "  new_pdf.output('/content/drive/MyDrive/Colab Notebooks/Projetos Data Science/Trabalhando com PDF/DataSet funcionários.pdf', 'F')"
      ],
      "execution_count": 62,
      "outputs": []
    },
    {
      "cell_type": "markdown",
      "metadata": {
        "id": "IPaL2nfDS9C5"
      },
      "source": [
        "# <h3><font size=5><b>Considerações finais</b><font/></h3>\r\n",
        "\r\n",
        "<center><img src=\"https://img.icons8.com/ios-filled/200/000000/check-all--v1.png\"/> </center>\r\n",
        "\r\n",
        "Chegamos ao fim... 🥵 \r\n",
        "\r\n",
        "O meu intuito com este artigo foi mostrar que um conhecimento básico em Python pode facilitar sua vida. Sabe aquelas tarefas maçantes, rotineiras ou até mesmo esse nosso PDF (imagine 100, 200 ou mais páginas), quanto tempo você levaria para cumpri-lás? Com um estudo básico em Python você consegue automatizar e acelerar esses trabalhos em poucas horas. E mais, é possivel ainda explorar e criar uma nova funcionalidade a essas tarefas, como no projeto que apresentei: com os dados extraidos de um PDF foi possivel informar o número de funcionários, a média salarial e a soma desses salários. Eu nem consigo imaginar o tanto de possibilidades, que alguém com um bom conhecimento na linguagem poderia dar a essas tarefas/projetos.\r\n",
        "\r\n",
        "Enfim, espero que tenham gostado do que foi apresentado, tentei ser o mais explicativo possível, trazendo algumas funcionaliades e conceitos básicos da linguagem.\r\n",
        "\r\n",
        "Aaaa, já ia me esquecendo 😁😁😁. Segue abaixo o resultado final:\r\n",
        "<center><img src=\"https://i.ibb.co/G5cxS4h/recorte4.png\" alt=\"recorte4\" border=\"0\"></center>\r\n",
        "\r\n",
        "<img src=\"https://img.icons8.com/color/24/000000/external-link.png\"/> <a href=\"https://drive.google.com/file/d/1aC-ByGPhArMD8dX3L0Ahq2IHxjR-hhnj/view?usp=sharing\"> Link para o PDF</a>\r\n"
      ]
    },
    {
      "cell_type": "code",
      "metadata": {
        "id": "dORd8WJvADDT"
      },
      "source": [
        ""
      ],
      "execution_count": null,
      "outputs": []
    }
  ]
}