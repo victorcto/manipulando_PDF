<h1> Manipulando PDF </h1>
<h2><b> Como extrair, limpar e formatar dados de um PDF com Python </b></h2>  
<hr>
#<h3><font size=5><b>Introdução</b></h3>

<center><img src="https://img.icons8.com/ios-filled/200/000000/binary-file.png"/></center>

Diferentemente de documentos de textos simples, PDF's são arquivos binários, o que os torna mais difíceis de manipular. Além disso, PDF’s podem conter imagens, diferentes fontes, cores, etc. complicando ainda mais a tarefa de manipulação – extrair, limpar e reestruturar dados. Felizmente, conhecendo um pouco de Python e alguns de seus módulos é possível facilitar e automatizar essa tarefa em um PDF.
